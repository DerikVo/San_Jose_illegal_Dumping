{
 "cells": [
  {
   "cell_type": "code",
   "execution_count": 2,
   "id": "5c1e275f-c9e9-45fc-a865-0fdf7a00bb36",
   "metadata": {
    "tags": []
   },
   "outputs": [],
   "source": [
    "import pandas as pd\n",
    "import numpy as np\n",
    "import requests\n",
    "import os\n",
    "from datetime import datetime, timezone, timedelta"
   ]
  },
  {
   "cell_type": "code",
   "execution_count": 2,
   "id": "b03b01d7-d917-45dc-8ec9-43ebef5b8ea3",
   "metadata": {
    "tags": []
   },
   "outputs": [],
   "source": [
    "url = 'https://geo.sanjoseca.gov/server/rest/services/OPN/OPN_OpenDataService/MapServer/458/query?where=1%3D1&outFields=*&outSR=4326&f=json'"
   ]
  },
  {
   "cell_type": "code",
   "execution_count": 3,
   "id": "cc9cc635-aae8-4472-8767-ffdf827cbb52",
   "metadata": {
    "tags": []
   },
   "outputs": [
    {
     "data": {
      "text/plain": [
       "200"
      ]
     },
     "execution_count": 3,
     "metadata": {},
     "output_type": "execute_result"
    }
   ],
   "source": [
    "req = requests.get(url)\n",
    "req.status_code"
   ]
  },
  {
   "cell_type": "code",
   "execution_count": 12,
   "id": "005f8940-070b-4994-a839-5bb749563d6c",
   "metadata": {
    "tags": []
   },
   "outputs": [
    {
     "data": {
      "text/plain": [
       "dict_keys(['displayFieldName', 'fieldAliases', 'geometryType', 'spatialReference', 'fields', 'features', 'exceededTransferLimit'])"
      ]
     },
     "execution_count": 12,
     "metadata": {},
     "output_type": "execute_result"
    }
   ],
   "source": [
    "sj = req.json()\n",
    "sj.keys()"
   ]
  },
  {
   "cell_type": "code",
   "execution_count": 13,
   "id": "bb96150e-5a63-4f39-b1e1-385c764ca7f4",
   "metadata": {
    "tags": []
   },
   "outputs": [
    {
     "data": {
      "text/plain": [
       "'IMAGENAME'"
      ]
     },
     "execution_count": 13,
     "metadata": {},
     "output_type": "execute_result"
    }
   ],
   "source": [
    "sj['displayFieldName']"
   ]
  },
  {
   "cell_type": "code",
   "execution_count": 14,
   "id": "91bf2751-6981-4ca2-af88-834c9265db3b",
   "metadata": {
    "tags": []
   },
   "outputs": [
    {
     "data": {
      "text/html": [
       "<div>\n",
       "<style scoped>\n",
       "    .dataframe tbody tr th:only-of-type {\n",
       "        vertical-align: middle;\n",
       "    }\n",
       "\n",
       "    .dataframe tbody tr th {\n",
       "        vertical-align: top;\n",
       "    }\n",
       "\n",
       "    .dataframe thead th {\n",
       "        text-align: right;\n",
       "    }\n",
       "</style>\n",
       "<table border=\"1\" class=\"dataframe\">\n",
       "  <thead>\n",
       "    <tr style=\"text-align: right;\">\n",
       "      <th></th>\n",
       "      <th>attributes</th>\n",
       "      <th>geometry</th>\n",
       "    </tr>\n",
       "  </thead>\n",
       "  <tbody>\n",
       "    <tr>\n",
       "      <th>0</th>\n",
       "      <td>{'DATETIMERECEIVEDUTC': 1590721500000, 'DATETI...</td>\n",
       "      <td>{'x': -121.81807207346314, 'y': 37.32809795022...</td>\n",
       "    </tr>\n",
       "    <tr>\n",
       "      <th>1</th>\n",
       "      <td>{'DATETIMERECEIVEDUTC': 1578073213000, 'DATETI...</td>\n",
       "      <td>{'x': -121.83090543314101, 'y': 37.36267701263...</td>\n",
       "    </tr>\n",
       "    <tr>\n",
       "      <th>2</th>\n",
       "      <td>{'DATETIMERECEIVEDUTC': 1627243159000, 'DATETI...</td>\n",
       "      <td>{'x': -121.86683404814093, 'y': 37.37783129176...</td>\n",
       "    </tr>\n",
       "    <tr>\n",
       "      <th>3</th>\n",
       "      <td>{'DATETIMERECEIVEDUTC': 1552915723000, 'DATETI...</td>\n",
       "      <td>{'x': -121.90403268998422, 'y': 37.36042524638...</td>\n",
       "    </tr>\n",
       "    <tr>\n",
       "      <th>4</th>\n",
       "      <td>{'DATETIMERECEIVEDUTC': 1462316400000, 'DATETI...</td>\n",
       "      <td>{'x': -121.85307408253561, 'y': 37.35696594995...</td>\n",
       "    </tr>\n",
       "    <tr>\n",
       "      <th>...</th>\n",
       "      <td>...</td>\n",
       "      <td>...</td>\n",
       "    </tr>\n",
       "    <tr>\n",
       "      <th>1995</th>\n",
       "      <td>{'DATETIMERECEIVEDUTC': 1651096926000, 'DATETI...</td>\n",
       "      <td>{'x': -121.90798979259169, 'y': 37.37467714752...</td>\n",
       "    </tr>\n",
       "    <tr>\n",
       "      <th>1996</th>\n",
       "      <td>{'DATETIMERECEIVEDUTC': 1614311704000, 'DATETI...</td>\n",
       "      <td>{'x': -121.87616004262563, 'y': 37.34495111402...</td>\n",
       "    </tr>\n",
       "    <tr>\n",
       "      <th>1997</th>\n",
       "      <td>{'DATETIMERECEIVEDUTC': 1487287080000, 'DATETI...</td>\n",
       "      <td>{'x': -121.92705509633738, 'y': 37.38105794664...</td>\n",
       "    </tr>\n",
       "    <tr>\n",
       "      <th>1998</th>\n",
       "      <td>{'DATETIMERECEIVEDUTC': 1532195962000, 'DATETI...</td>\n",
       "      <td>{'x': -121.8711263363541, 'y': 37.31328537187932}</td>\n",
       "    </tr>\n",
       "    <tr>\n",
       "      <th>1999</th>\n",
       "      <td>{'DATETIMERECEIVEDUTC': 1474500960000, 'DATETI...</td>\n",
       "      <td>{'x': -121.88226708513676, 'y': 37.34430694675...</td>\n",
       "    </tr>\n",
       "  </tbody>\n",
       "</table>\n",
       "<p>2000 rows × 2 columns</p>\n",
       "</div>"
      ],
      "text/plain": [
       "                                             attributes  \\\n",
       "0     {'DATETIMERECEIVEDUTC': 1590721500000, 'DATETI...   \n",
       "1     {'DATETIMERECEIVEDUTC': 1578073213000, 'DATETI...   \n",
       "2     {'DATETIMERECEIVEDUTC': 1627243159000, 'DATETI...   \n",
       "3     {'DATETIMERECEIVEDUTC': 1552915723000, 'DATETI...   \n",
       "4     {'DATETIMERECEIVEDUTC': 1462316400000, 'DATETI...   \n",
       "...                                                 ...   \n",
       "1995  {'DATETIMERECEIVEDUTC': 1651096926000, 'DATETI...   \n",
       "1996  {'DATETIMERECEIVEDUTC': 1614311704000, 'DATETI...   \n",
       "1997  {'DATETIMERECEIVEDUTC': 1487287080000, 'DATETI...   \n",
       "1998  {'DATETIMERECEIVEDUTC': 1532195962000, 'DATETI...   \n",
       "1999  {'DATETIMERECEIVEDUTC': 1474500960000, 'DATETI...   \n",
       "\n",
       "                                               geometry  \n",
       "0     {'x': -121.81807207346314, 'y': 37.32809795022...  \n",
       "1     {'x': -121.83090543314101, 'y': 37.36267701263...  \n",
       "2     {'x': -121.86683404814093, 'y': 37.37783129176...  \n",
       "3     {'x': -121.90403268998422, 'y': 37.36042524638...  \n",
       "4     {'x': -121.85307408253561, 'y': 37.35696594995...  \n",
       "...                                                 ...  \n",
       "1995  {'x': -121.90798979259169, 'y': 37.37467714752...  \n",
       "1996  {'x': -121.87616004262563, 'y': 37.34495111402...  \n",
       "1997  {'x': -121.92705509633738, 'y': 37.38105794664...  \n",
       "1998  {'x': -121.8711263363541, 'y': 37.31328537187932}  \n",
       "1999  {'x': -121.88226708513676, 'y': 37.34430694675...  \n",
       "\n",
       "[2000 rows x 2 columns]"
      ]
     },
     "execution_count": 14,
     "metadata": {},
     "output_type": "execute_result"
    }
   ],
   "source": [
    "pd.DataFrame(sj['features'])"
   ]
  },
  {
   "cell_type": "code",
   "execution_count": 15,
   "id": "5ffdfa2e-d05d-4eff-b272-eb5bce47c249",
   "metadata": {
    "tags": []
   },
   "outputs": [
    {
     "data": {
      "text/plain": [
       "{'DATETIMERECEIVEDUTC': 1590721500000,\n",
       " 'DATETIMECOMPLETEDUTC': 1590726000000,\n",
       " 'WORKORDERREFNO': 'WO-0000341544',\n",
       " 'OBJECTID': 1,\n",
       " 'FACILITYID': '83900',\n",
       " 'INTID': 83900,\n",
       " 'COUNCILDISTRICT': '8',\n",
       " 'SERVICERECORDID': '',\n",
       " 'SERVICECATEGORY': 'Debris & Illegal Dumping',\n",
       " 'DATETIMERECEIVED': 1590696300000,\n",
       " 'STATUS': 'Closed',\n",
       " 'DATETIMECOMPLETED': 1590700800000,\n",
       " 'DETAILSUMMARY': None,\n",
       " 'LATITUDE': 37.328093,\n",
       " 'LONGITUDE': -121.818059,\n",
       " 'IMAGENAME': None,\n",
       " 'HYPERLINK': None,\n",
       " 'MYSANJOSEREFNO': None,\n",
       " 'LASTUPDATETHIRTYDAYS': 1598363089000,\n",
       " 'LASTUPDATE': 1600986109000,\n",
       " 'NOTES': 'Homeless debris',\n",
       " 'ENTERPRISEID': 'IWM-ILDM-0000083900',\n",
       " 'GlobalID': '{87E47F44-FE16-4833-BC9C-B4E55BD89187}'}"
      ]
     },
     "execution_count": 15,
     "metadata": {},
     "output_type": "execute_result"
    }
   ],
   "source": [
    "sj['features'][0]['attributes']"
   ]
  },
  {
   "cell_type": "code",
   "execution_count": 42,
   "id": "888f5496-217c-4fc2-b4fa-46ec9db2f6af",
   "metadata": {
    "tags": []
   },
   "outputs": [
    {
     "data": {
      "text/plain": [
       "DATETIMERECEIVEDUTC                              1590721500000\n",
       "DATETIMECOMPLETEDUTC                             1590726000000\n",
       "WORKORDERREFNO                                   WO-0000341544\n",
       "OBJECTID                                                     1\n",
       "FACILITYID                                               83900\n",
       "INTID                                                    83900\n",
       "COUNCILDISTRICT                                              8\n",
       "SERVICERECORDID                                               \n",
       "SERVICECATEGORY                       Debris & Illegal Dumping\n",
       "DATETIMERECEIVED                                 1590696300000\n",
       "STATUS                                                  Closed\n",
       "DATETIMECOMPLETED                                1590700800000\n",
       "DETAILSUMMARY                                             None\n",
       "LATITUDE                                             37.328093\n",
       "LONGITUDE                                          -121.818059\n",
       "IMAGENAME                                                 None\n",
       "HYPERLINK                                                 None\n",
       "MYSANJOSEREFNO                                            None\n",
       "LASTUPDATETHIRTYDAYS                             1598363089000\n",
       "LASTUPDATE                                       1600986109000\n",
       "NOTES                                          Homeless debris\n",
       "ENTERPRISEID                               IWM-ILDM-0000083900\n",
       "GlobalID                {87E47F44-FE16-4833-BC9C-B4E55BD89187}\n",
       "x                                                          NaN\n",
       "y                                                          NaN\n",
       "Name: attributes, dtype: object"
      ]
     },
     "execution_count": 42,
     "metadata": {},
     "output_type": "execute_result"
    }
   ],
   "source": [
    "pd.DataFrame(sj['features'][0]).loc[:, 'attributes'].transpose()"
   ]
  },
  {
   "cell_type": "code",
   "execution_count": 17,
   "id": "ff3feee6-60b8-41ed-beab-fb56d043e5d3",
   "metadata": {
    "tags": []
   },
   "outputs": [
    {
     "data": {
      "text/html": [
       "<div>\n",
       "<style scoped>\n",
       "    .dataframe tbody tr th:only-of-type {\n",
       "        vertical-align: middle;\n",
       "    }\n",
       "\n",
       "    .dataframe tbody tr th {\n",
       "        vertical-align: top;\n",
       "    }\n",
       "\n",
       "    .dataframe thead th {\n",
       "        text-align: right;\n",
       "    }\n",
       "</style>\n",
       "<table border=\"1\" class=\"dataframe\">\n",
       "  <thead>\n",
       "    <tr style=\"text-align: right;\">\n",
       "      <th></th>\n",
       "      <th>DATETIMERECEIVEDUTC</th>\n",
       "      <th>DATETIMECOMPLETEDUTC</th>\n",
       "      <th>WORKORDERREFNO</th>\n",
       "      <th>OBJECTID</th>\n",
       "      <th>FACILITYID</th>\n",
       "      <th>INTID</th>\n",
       "      <th>COUNCILDISTRICT</th>\n",
       "      <th>SERVICERECORDID</th>\n",
       "      <th>SERVICECATEGORY</th>\n",
       "      <th>DATETIMERECEIVED</th>\n",
       "      <th>...</th>\n",
       "      <th>LATITUDE</th>\n",
       "      <th>LONGITUDE</th>\n",
       "      <th>IMAGENAME</th>\n",
       "      <th>HYPERLINK</th>\n",
       "      <th>MYSANJOSEREFNO</th>\n",
       "      <th>LASTUPDATETHIRTYDAYS</th>\n",
       "      <th>LASTUPDATE</th>\n",
       "      <th>NOTES</th>\n",
       "      <th>ENTERPRISEID</th>\n",
       "      <th>GlobalID</th>\n",
       "    </tr>\n",
       "  </thead>\n",
       "  <tbody>\n",
       "    <tr>\n",
       "      <th>attributes</th>\n",
       "      <td>1590721500000</td>\n",
       "      <td>1590726000000</td>\n",
       "      <td>WO-0000341544</td>\n",
       "      <td>1</td>\n",
       "      <td>83900</td>\n",
       "      <td>83900</td>\n",
       "      <td>8</td>\n",
       "      <td></td>\n",
       "      <td>Debris &amp; Illegal Dumping</td>\n",
       "      <td>1590696300000</td>\n",
       "      <td>...</td>\n",
       "      <td>37.328093</td>\n",
       "      <td>-121.818059</td>\n",
       "      <td>None</td>\n",
       "      <td>None</td>\n",
       "      <td>None</td>\n",
       "      <td>1598363089000</td>\n",
       "      <td>1600986109000</td>\n",
       "      <td>Homeless debris</td>\n",
       "      <td>IWM-ILDM-0000083900</td>\n",
       "      <td>{87E47F44-FE16-4833-BC9C-B4E55BD89187}</td>\n",
       "    </tr>\n",
       "  </tbody>\n",
       "</table>\n",
       "<p>1 rows × 23 columns</p>\n",
       "</div>"
      ],
      "text/plain": [
       "           DATETIMERECEIVEDUTC DATETIMECOMPLETEDUTC WORKORDERREFNO OBJECTID  \\\n",
       "attributes       1590721500000        1590726000000  WO-0000341544        1   \n",
       "\n",
       "           FACILITYID  INTID COUNCILDISTRICT SERVICERECORDID  \\\n",
       "attributes      83900  83900               8                   \n",
       "\n",
       "                     SERVICECATEGORY DATETIMERECEIVED  ...   LATITUDE  \\\n",
       "attributes  Debris & Illegal Dumping    1590696300000  ...  37.328093   \n",
       "\n",
       "             LONGITUDE IMAGENAME HYPERLINK MYSANJOSEREFNO  \\\n",
       "attributes -121.818059      None      None           None   \n",
       "\n",
       "           LASTUPDATETHIRTYDAYS     LASTUPDATE            NOTES  \\\n",
       "attributes        1598363089000  1600986109000  Homeless debris   \n",
       "\n",
       "                   ENTERPRISEID                                GlobalID  \n",
       "attributes  IWM-ILDM-0000083900  {87E47F44-FE16-4833-BC9C-B4E55BD89187}  \n",
       "\n",
       "[1 rows x 23 columns]"
      ]
     },
     "execution_count": 17,
     "metadata": {},
     "output_type": "execute_result"
    }
   ],
   "source": [
    "pd.DataFrame(sj['features'][0]).iloc[:-2, :1].transpose()"
   ]
  },
  {
   "cell_type": "code",
   "execution_count": 18,
   "id": "2a98a66c-85af-43dd-8987-9e3abdab91f2",
   "metadata": {
    "tags": []
   },
   "outputs": [],
   "source": [
    "url = 'https://geo.sanjoseca.gov/server/rest/services/OPN/OPN_OpenDataService/MapServer/458/query?where=1%3D1&outFields=*&outSR=4326&f=json'\n",
    "req = requests.get(url)\n",
    "sj = req.json()\n",
    "req.status_code\n",
    "result_entries = []\n",
    "\n",
    "for response in sj['features']:\n",
    "        # Create a DataFrame with the first column and exclude the last two rows\n",
    "    entry = pd.DataFrame(response).iloc[:-2, :1].transpose()\n",
    "\n",
    "        # Append the transposed entry to the result_entries list\n",
    "    result_entries.append(entry)\n",
    "\n",
    "    # Concatenate all entries into a single DataFrame\n",
    "df = pd.concat(result_entries, ignore_index=True)\n",
    "\n",
    "    # Reset the index of the final result_df\n",
    "df.reset_index(drop=True, inplace=True)"
   ]
  },
  {
   "cell_type": "code",
   "execution_count": 72,
   "id": "fa08f73e-20a5-430a-bc32-ff40447f37b1",
   "metadata": {
    "tags": []
   },
   "outputs": [
    {
     "data": {
      "text/html": [
       "<div>\n",
       "<style scoped>\n",
       "    .dataframe tbody tr th:only-of-type {\n",
       "        vertical-align: middle;\n",
       "    }\n",
       "\n",
       "    .dataframe tbody tr th {\n",
       "        vertical-align: top;\n",
       "    }\n",
       "\n",
       "    .dataframe thead th {\n",
       "        text-align: right;\n",
       "    }\n",
       "</style>\n",
       "<table border=\"1\" class=\"dataframe\">\n",
       "  <thead>\n",
       "    <tr style=\"text-align: right;\">\n",
       "      <th></th>\n",
       "      <th>DATETIMERECEIVEDUTC</th>\n",
       "      <th>DATETIMECOMPLETEDUTC</th>\n",
       "    </tr>\n",
       "  </thead>\n",
       "  <tbody>\n",
       "    <tr>\n",
       "      <th>0</th>\n",
       "      <td>1590721500</td>\n",
       "      <td>1590726000</td>\n",
       "    </tr>\n",
       "    <tr>\n",
       "      <th>1</th>\n",
       "      <td>1578073213</td>\n",
       "      <td>1578595560</td>\n",
       "    </tr>\n",
       "    <tr>\n",
       "      <th>2</th>\n",
       "      <td>1627243159</td>\n",
       "      <td>1627498800</td>\n",
       "    </tr>\n",
       "    <tr>\n",
       "      <th>3</th>\n",
       "      <td>1552915723</td>\n",
       "      <td>0</td>\n",
       "    </tr>\n",
       "    <tr>\n",
       "      <th>4</th>\n",
       "      <td>1462316400</td>\n",
       "      <td>1462328280</td>\n",
       "    </tr>\n",
       "    <tr>\n",
       "      <th>...</th>\n",
       "      <td>...</td>\n",
       "      <td>...</td>\n",
       "    </tr>\n",
       "    <tr>\n",
       "      <th>1995</th>\n",
       "      <td>1651096926</td>\n",
       "      <td>1651172400</td>\n",
       "    </tr>\n",
       "    <tr>\n",
       "      <th>1996</th>\n",
       "      <td>1614311704</td>\n",
       "      <td>1614696360</td>\n",
       "    </tr>\n",
       "    <tr>\n",
       "      <th>1997</th>\n",
       "      <td>1487287080</td>\n",
       "      <td>1489262400</td>\n",
       "    </tr>\n",
       "    <tr>\n",
       "      <th>1998</th>\n",
       "      <td>1532195962</td>\n",
       "      <td>1532454540</td>\n",
       "    </tr>\n",
       "    <tr>\n",
       "      <th>1999</th>\n",
       "      <td>1474500960</td>\n",
       "      <td>1474484400</td>\n",
       "    </tr>\n",
       "  </tbody>\n",
       "</table>\n",
       "<p>2000 rows × 2 columns</p>\n",
       "</div>"
      ],
      "text/plain": [
       "      DATETIMERECEIVEDUTC  DATETIMECOMPLETEDUTC\n",
       "0              1590721500            1590726000\n",
       "1              1578073213            1578595560\n",
       "2              1627243159            1627498800\n",
       "3              1552915723                     0\n",
       "4              1462316400            1462328280\n",
       "...                   ...                   ...\n",
       "1995           1651096926            1651172400\n",
       "1996           1614311704            1614696360\n",
       "1997           1487287080            1489262400\n",
       "1998           1532195962            1532454540\n",
       "1999           1474500960            1474484400\n",
       "\n",
       "[2000 rows x 2 columns]"
      ]
     },
     "execution_count": 72,
     "metadata": {},
     "output_type": "execute_result"
    }
   ],
   "source": [
    "df[['DATETIMERECEIVEDUTC', 'DATETIMECOMPLETEDUTC']]"
   ]
  },
  {
   "cell_type": "code",
   "execution_count": 82,
   "id": "e7ea1d7d-aedc-4f42-bb3e-b5aff634d00d",
   "metadata": {
    "tags": []
   },
   "outputs": [
    {
     "data": {
      "text/html": [
       "<div>\n",
       "<style scoped>\n",
       "    .dataframe tbody tr th:only-of-type {\n",
       "        vertical-align: middle;\n",
       "    }\n",
       "\n",
       "    .dataframe tbody tr th {\n",
       "        vertical-align: top;\n",
       "    }\n",
       "\n",
       "    .dataframe thead th {\n",
       "        text-align: right;\n",
       "    }\n",
       "</style>\n",
       "<table border=\"1\" class=\"dataframe\">\n",
       "  <thead>\n",
       "    <tr style=\"text-align: right;\">\n",
       "      <th></th>\n",
       "      <th>DATETIMERECEIVEDUTC</th>\n",
       "      <th>DATETIMECOMPLETEDUTC</th>\n",
       "    </tr>\n",
       "  </thead>\n",
       "  <tbody>\n",
       "    <tr>\n",
       "      <th>82</th>\n",
       "      <td>1591360168</td>\n",
       "      <td>0</td>\n",
       "    </tr>\n",
       "    <tr>\n",
       "      <th>133</th>\n",
       "      <td>1633560605</td>\n",
       "      <td>0</td>\n",
       "    </tr>\n",
       "    <tr>\n",
       "      <th>155</th>\n",
       "      <td>1583454443</td>\n",
       "      <td>0</td>\n",
       "    </tr>\n",
       "    <tr>\n",
       "      <th>182</th>\n",
       "      <td>1623277740</td>\n",
       "      <td>0</td>\n",
       "    </tr>\n",
       "    <tr>\n",
       "      <th>191</th>\n",
       "      <td>1581728410</td>\n",
       "      <td>0</td>\n",
       "    </tr>\n",
       "    <tr>\n",
       "      <th>455</th>\n",
       "      <td>1484186700</td>\n",
       "      <td>0</td>\n",
       "    </tr>\n",
       "    <tr>\n",
       "      <th>485</th>\n",
       "      <td>1586617026</td>\n",
       "      <td>0</td>\n",
       "    </tr>\n",
       "    <tr>\n",
       "      <th>526</th>\n",
       "      <td>1476902400</td>\n",
       "      <td>0</td>\n",
       "    </tr>\n",
       "    <tr>\n",
       "      <th>837</th>\n",
       "      <td>1583880120</td>\n",
       "      <td>0</td>\n",
       "    </tr>\n",
       "    <tr>\n",
       "      <th>873</th>\n",
       "      <td>1578753820</td>\n",
       "      <td>0</td>\n",
       "    </tr>\n",
       "    <tr>\n",
       "      <th>993</th>\n",
       "      <td>1620162411</td>\n",
       "      <td>0</td>\n",
       "    </tr>\n",
       "    <tr>\n",
       "      <th>1159</th>\n",
       "      <td>1581553183</td>\n",
       "      <td>0</td>\n",
       "    </tr>\n",
       "    <tr>\n",
       "      <th>1601</th>\n",
       "      <td>1620879000</td>\n",
       "      <td>0</td>\n",
       "    </tr>\n",
       "    <tr>\n",
       "      <th>1629</th>\n",
       "      <td>1584657567</td>\n",
       "      <td>0</td>\n",
       "    </tr>\n",
       "    <tr>\n",
       "      <th>1699</th>\n",
       "      <td>1578856404</td>\n",
       "      <td>0</td>\n",
       "    </tr>\n",
       "    <tr>\n",
       "      <th>1820</th>\n",
       "      <td>1605909171</td>\n",
       "      <td>0</td>\n",
       "    </tr>\n",
       "  </tbody>\n",
       "</table>\n",
       "</div>"
      ],
      "text/plain": [
       "      DATETIMERECEIVEDUTC  DATETIMECOMPLETEDUTC\n",
       "82             1591360168                     0\n",
       "133            1633560605                     0\n",
       "155            1583454443                     0\n",
       "182            1623277740                     0\n",
       "191            1581728410                     0\n",
       "455            1484186700                     0\n",
       "485            1586617026                     0\n",
       "526            1476902400                     0\n",
       "837            1583880120                     0\n",
       "873            1578753820                     0\n",
       "993            1620162411                     0\n",
       "1159           1581553183                     0\n",
       "1601           1620879000                     0\n",
       "1629           1584657567                     0\n",
       "1699           1578856404                     0\n",
       "1820           1605909171                     0"
      ]
     },
     "execution_count": 82,
     "metadata": {},
     "output_type": "execute_result"
    }
   ],
   "source": [
    "df[df['STATUS']=='Assigned'][['DATETIMERECEIVEDUTC', 'DATETIMECOMPLETEDUTC']]"
   ]
  },
  {
   "cell_type": "code",
   "execution_count": null,
   "id": "cadcc3aa-095c-4413-87c1-ff6f93806844",
   "metadata": {
    "tags": []
   },
   "outputs": [],
   "source": [
    "    url = 'https://geo.sanjoseca.gov/server/rest/services/OPN/OPN_OpenDataService/MapServer/458/query?where=1%3D1&outFields=*&outSR=4326&f=json'\n",
    "    newest_date = df['DATETIMERECEIVEDUTC'].max()\n",
    "    params = {'start_date' : 1590721500000}\n",
    "    req = requests.get(url, params=params)\n",
    "    req.json()"
   ]
  },
  {
   "cell_type": "code",
   "execution_count": 76,
   "id": "6706de35-81d8-4df9-bb54-a58b08a996fe",
   "metadata": {
    "tags": []
   },
   "outputs": [
    {
     "name": "stdout",
     "output_type": "stream",
     "text": [
      "illegal dumping csv loaded and updated\n"
     ]
    }
   ],
   "source": [
    "\"\"\"\n",
    "20240219\n",
    "Code was asited by chatGPT; prompt focused on converted unix time into pst. Line 13 was fixed to convert to milliseconds and 21 was generated  to convert to PST\n",
    "\n",
    "Then I converted those lines into a function to convert columns as needed.\n",
    "Since this is in San Jose I assume the timezone was in PST\n",
    "\n",
    "This has gone through serval interations due to issues with importing data into postgresql\n",
    "\n",
    "\n",
    "Code was later updated to have a seperate script for pulling the data an cleaning the data\n",
    "\"\"\"\n",
    "\n",
    "\n",
    "file_path = '../data/illegal_dumping.csv'\n",
    "if not os.path.exists(file_path):\n",
    "    url = 'https://geo.sanjoseca.gov/server/rest/services/OPN/OPN_OpenDataService/MapServer/458/query?where=1%3D1&outFields=*&outSR=4326&f=json'\n",
    "    req = requests.get(url)\n",
    "    sj = req.json()\n",
    "    result_entries = []\n",
    "\n",
    "    for response in sj['features']:\n",
    "        # Create a DataFrame with the first column and exclude the last two rows\n",
    "        entry = pd.DataFrame(response).iloc[:-2, :1].transpose()\n",
    "\n",
    "        # Append the transposed entry to the result_entries list\n",
    "        result_entries.append(entry)\n",
    "\n",
    "    # Concatenate all entries into a single DataFrame\n",
    "    df = pd.concat(result_entries, ignore_index=True)\n",
    "\n",
    "    # Reset the index of the final result_df\n",
    "    df.reset_index(drop=True, inplace=True)\n",
    "    #saves csv\n",
    "    df.to_csv('../data/illegal_dumping.csv', index= False)\n",
    "    #print a status code for creating a csv if it didnt exist before\n",
    "    print('illegal dumping csv created')\n",
    "#if the file exist then it loads it as a csv.\n",
    "else:\n",
    "    df= pd.read_csv('../data/illegal_dumping.csv')\n",
    "    # Need to learn how to use the params with this datebase; using time and the column name is not working\n",
    "    # url = 'https://geo.sanjoseca.gov/server/rest/services/OPN/OPN_OpenDataService/MapServer/458/query?where=1%3D1&outFields=*&outSR=4326&f=json'\n",
    "    # newest_date = df['DATETIMERECEIVEDUTC'].max()\n",
    "    # params = {'time' : newest_date+1}\n",
    "    # req = requests.get(url, params=params)\n",
    "    # sj = req.json()\n",
    "    # result_entries = []\n",
    "    # for response in sj['features']:\n",
    "    #     # Create a DataFrame with the first column and exclude the last two rows\n",
    "    #     entry = pd.DataFrame(response).iloc[:-2, :1].transpose()\n",
    "    #     result_entries.append(entry)\n",
    "    # df = pd.concat([df]+result_entries, ignore_index=True)\n",
    "    print('illegal dumping csv loaded and updated')"
   ]
  },
  {
   "cell_type": "code",
   "execution_count": 77,
   "id": "2dbd9371-5064-4d36-b10b-3e650b9f47c0",
   "metadata": {
    "tags": []
   },
   "outputs": [
    {
     "name": "stdout",
     "output_type": "stream",
     "text": [
      "<class 'pandas.core.frame.DataFrame'>\n",
      "RangeIndex: 2000 entries, 0 to 1999\n",
      "Data columns (total 23 columns):\n",
      " #   Column                Non-Null Count  Dtype  \n",
      "---  ------                --------------  -----  \n",
      " 0   DATETIMERECEIVEDUTC   2000 non-null   int64  \n",
      " 1   DATETIMECOMPLETEDUTC  1907 non-null   float64\n",
      " 2   WORKORDERREFNO        2000 non-null   object \n",
      " 3   OBJECTID              2000 non-null   int64  \n",
      " 4   FACILITYID            2000 non-null   int64  \n",
      " 5   INTID                 2000 non-null   int64  \n",
      " 6   COUNCILDISTRICT       2000 non-null   int64  \n",
      " 7   SERVICERECORDID       1261 non-null   float64\n",
      " 8   SERVICECATEGORY       2000 non-null   object \n",
      " 9   DATETIMERECEIVED      2000 non-null   int64  \n",
      " 10  STATUS                2000 non-null   object \n",
      " 11  DATETIMECOMPLETED     1907 non-null   float64\n",
      " 12  DETAILSUMMARY         1077 non-null   object \n",
      " 13  LATITUDE              2000 non-null   float64\n",
      " 14  LONGITUDE             2000 non-null   float64\n",
      " 15  IMAGENAME             0 non-null      float64\n",
      " 16  HYPERLINK             0 non-null      float64\n",
      " 17  MYSANJOSEREFNO        1261 non-null   object \n",
      " 18  LASTUPDATETHIRTYDAYS  2000 non-null   int64  \n",
      " 19  LASTUPDATE            2000 non-null   int64  \n",
      " 20  NOTES                 2000 non-null   object \n",
      " 21  ENTERPRISEID          2000 non-null   object \n",
      " 22  GlobalID              2000 non-null   object \n",
      "dtypes: float64(7), int64(8), object(8)\n",
      "memory usage: 359.5+ KB\n"
     ]
    }
   ],
   "source": [
    "df.info()"
   ]
  },
  {
   "cell_type": "code",
   "execution_count": 92,
   "id": "6bf2daa9-06f1-4985-8d4a-db9b4e4bab4d",
   "metadata": {
    "tags": []
   },
   "outputs": [],
   "source": [
    "def convert_time(df, col):\n",
    "    # Assuming the columns with Unix time are in milliseconds; dates make more sense with this method\n",
    "    df[f'{col}'] = (df[f'{col}'].fillna(0) / 1000).astype(int)\n",
    "\n",
    "#     # Assuming original time is in UTC; Since the local time is PST we will make this assumption\n",
    "#     utc_timezone = timezone.utc\n",
    "#     pst_timezone = timezone(timedelta(hours=-8))  # Pacific Standard Time (PST) since the city in san jose\n",
    "\n",
    "#     # Convert UTC time to PST\n",
    "#     df[f'{col}'] = df[f'{col}'].dt.tz_localize(utc_timezone).dt.tz_convert(pst_timezone)\n",
    "\n",
    "#     # Format the datetime to a string with PostgreSQL compatible format; can add a %z for timezone\n",
    "#     df[f'{col}'] = df[f'{col}'].dt.strftime('%Y-%m-%d %H:%M:%S' + ' America/Los_Angeles')\n",
    "\n",
    "#     return df\n",
    "    #list columns of fields that should be dates\n",
    "    cols = ['DATETIMERECEIVEDUTC', 'DATETIMECOMPLETEDUTC', 'DATETIMERECEIVED', 'LASTUPDATETHIRTYDAYS', 'LASTUPDATE', 'DATETIMECOMPLETED']    \n",
    "    #loop through list od columns\n",
    "for i in cols:\n",
    "    #uses function to convert to time into a human readable format\n",
    "    convert_time(df, i)"
   ]
  },
  {
   "cell_type": "code",
   "execution_count": 95,
   "id": "7ddb33f3-c242-4322-a353-537c8be3d261",
   "metadata": {
    "tags": []
   },
   "outputs": [],
   "source": [
    "df.head(5).to_csv('../data/illegal_dumping_test.csv', index= False)"
   ]
  },
  {
   "cell_type": "code",
   "execution_count": 5,
   "id": "b0561fa7-8d1f-4c22-bb4c-00a32f1cc75f",
   "metadata": {
    "tags": []
   },
   "outputs": [
    {
     "data": {
      "text/plain": [
       "1667425634"
      ]
     },
     "execution_count": 5,
     "metadata": {},
     "output_type": "execute_result"
    }
   ],
   "source": [
    "df['DATETIMERECEIVEDUTC'].max()"
   ]
  },
  {
   "cell_type": "code",
   "execution_count": null,
   "id": "05801dfd-2271-4bd7-a2e2-dbc4b4c7ef8d",
   "metadata": {
    "tags": []
   },
   "outputs": [],
   "source": []
  },
  {
   "cell_type": "code",
   "execution_count": 30,
   "id": "c960480c-0351-4455-bdbb-b6685fa5e117",
   "metadata": {
    "tags": []
   },
   "outputs": [
    {
     "data": {
      "text/html": [
       "<div>\n",
       "<style scoped>\n",
       "    .dataframe tbody tr th:only-of-type {\n",
       "        vertical-align: middle;\n",
       "    }\n",
       "\n",
       "    .dataframe tbody tr th {\n",
       "        vertical-align: top;\n",
       "    }\n",
       "\n",
       "    .dataframe thead th {\n",
       "        text-align: right;\n",
       "    }\n",
       "</style>\n",
       "<table border=\"1\" class=\"dataframe\">\n",
       "  <thead>\n",
       "    <tr style=\"text-align: right;\">\n",
       "      <th></th>\n",
       "      <th>DATETIMERECEIVEDUTC</th>\n",
       "    </tr>\n",
       "  </thead>\n",
       "  <tbody>\n",
       "  </tbody>\n",
       "</table>\n",
       "</div>"
      ],
      "text/plain": [
       "Empty DataFrame\n",
       "Columns: [DATETIMERECEIVEDUTC]\n",
       "Index: []"
      ]
     },
     "metadata": {},
     "output_type": "display_data"
    },
    {
     "data": {
      "text/html": [
       "<div>\n",
       "<style scoped>\n",
       "    .dataframe tbody tr th:only-of-type {\n",
       "        vertical-align: middle;\n",
       "    }\n",
       "\n",
       "    .dataframe tbody tr th {\n",
       "        vertical-align: top;\n",
       "    }\n",
       "\n",
       "    .dataframe thead th {\n",
       "        text-align: right;\n",
       "    }\n",
       "</style>\n",
       "<table border=\"1\" class=\"dataframe\">\n",
       "  <thead>\n",
       "    <tr style=\"text-align: right;\">\n",
       "      <th></th>\n",
       "      <th>DATETIMECOMPLETEDUTC</th>\n",
       "    </tr>\n",
       "  </thead>\n",
       "  <tbody>\n",
       "  </tbody>\n",
       "</table>\n",
       "</div>"
      ],
      "text/plain": [
       "Empty DataFrame\n",
       "Columns: [DATETIMECOMPLETEDUTC]\n",
       "Index: []"
      ]
     },
     "metadata": {},
     "output_type": "display_data"
    },
    {
     "data": {
      "text/html": [
       "<div>\n",
       "<style scoped>\n",
       "    .dataframe tbody tr th:only-of-type {\n",
       "        vertical-align: middle;\n",
       "    }\n",
       "\n",
       "    .dataframe tbody tr th {\n",
       "        vertical-align: top;\n",
       "    }\n",
       "\n",
       "    .dataframe thead th {\n",
       "        text-align: right;\n",
       "    }\n",
       "</style>\n",
       "<table border=\"1\" class=\"dataframe\">\n",
       "  <thead>\n",
       "    <tr style=\"text-align: right;\">\n",
       "      <th></th>\n",
       "      <th>DATETIMERECEIVED</th>\n",
       "    </tr>\n",
       "  </thead>\n",
       "  <tbody>\n",
       "  </tbody>\n",
       "</table>\n",
       "</div>"
      ],
      "text/plain": [
       "Empty DataFrame\n",
       "Columns: [DATETIMERECEIVED]\n",
       "Index: []"
      ]
     },
     "metadata": {},
     "output_type": "display_data"
    },
    {
     "data": {
      "text/html": [
       "<div>\n",
       "<style scoped>\n",
       "    .dataframe tbody tr th:only-of-type {\n",
       "        vertical-align: middle;\n",
       "    }\n",
       "\n",
       "    .dataframe tbody tr th {\n",
       "        vertical-align: top;\n",
       "    }\n",
       "\n",
       "    .dataframe thead th {\n",
       "        text-align: right;\n",
       "    }\n",
       "</style>\n",
       "<table border=\"1\" class=\"dataframe\">\n",
       "  <thead>\n",
       "    <tr style=\"text-align: right;\">\n",
       "      <th></th>\n",
       "      <th>LASTUPDATETHIRTYDAYS</th>\n",
       "    </tr>\n",
       "  </thead>\n",
       "  <tbody>\n",
       "  </tbody>\n",
       "</table>\n",
       "</div>"
      ],
      "text/plain": [
       "Empty DataFrame\n",
       "Columns: [LASTUPDATETHIRTYDAYS]\n",
       "Index: []"
      ]
     },
     "metadata": {},
     "output_type": "display_data"
    },
    {
     "data": {
      "text/html": [
       "<div>\n",
       "<style scoped>\n",
       "    .dataframe tbody tr th:only-of-type {\n",
       "        vertical-align: middle;\n",
       "    }\n",
       "\n",
       "    .dataframe tbody tr th {\n",
       "        vertical-align: top;\n",
       "    }\n",
       "\n",
       "    .dataframe thead th {\n",
       "        text-align: right;\n",
       "    }\n",
       "</style>\n",
       "<table border=\"1\" class=\"dataframe\">\n",
       "  <thead>\n",
       "    <tr style=\"text-align: right;\">\n",
       "      <th></th>\n",
       "      <th>LASTUPDATE</th>\n",
       "    </tr>\n",
       "  </thead>\n",
       "  <tbody>\n",
       "  </tbody>\n",
       "</table>\n",
       "</div>"
      ],
      "text/plain": [
       "Empty DataFrame\n",
       "Columns: [LASTUPDATE]\n",
       "Index: []"
      ]
     },
     "metadata": {},
     "output_type": "display_data"
    },
    {
     "data": {
      "text/html": [
       "<div>\n",
       "<style scoped>\n",
       "    .dataframe tbody tr th:only-of-type {\n",
       "        vertical-align: middle;\n",
       "    }\n",
       "\n",
       "    .dataframe tbody tr th {\n",
       "        vertical-align: top;\n",
       "    }\n",
       "\n",
       "    .dataframe thead th {\n",
       "        text-align: right;\n",
       "    }\n",
       "</style>\n",
       "<table border=\"1\" class=\"dataframe\">\n",
       "  <thead>\n",
       "    <tr style=\"text-align: right;\">\n",
       "      <th></th>\n",
       "      <th>DATETIMECOMPLETED</th>\n",
       "    </tr>\n",
       "  </thead>\n",
       "  <tbody>\n",
       "  </tbody>\n",
       "</table>\n",
       "</div>"
      ],
      "text/plain": [
       "Empty DataFrame\n",
       "Columns: [DATETIMECOMPLETED]\n",
       "Index: []"
      ]
     },
     "metadata": {},
     "output_type": "display_data"
    }
   ],
   "source": [
    "for i in cols:\n",
    "    display(df[[i]][df[i].isna()])"
   ]
  },
  {
   "cell_type": "code",
   "execution_count": 23,
   "id": "3e5d31c7-366c-45c8-85b0-f27fc6f46c03",
   "metadata": {},
   "outputs": [
    {
     "name": "stdout",
     "output_type": "stream",
     "text": [
      "DATETIMERECEIVEDUTC\n",
      "DATETIMECOMPLETEDUTC\n",
      "WORKORDERREFNO\n",
      "OBJECTID\n",
      "FACILITYID\n",
      "INTID\n",
      "COUNCILDISTRICT\n",
      "SERVICERECORDID\n",
      "SERVICECATEGORY\n",
      "DATETIMERECEIVED\n",
      "STATUS\n",
      "DATETIMECOMPLETED\n",
      "DETAILSUMMARY\n",
      "LATITUDE\n",
      "LONGITUDE\n",
      "IMAGENAME\n",
      "HYPERLINK\n",
      "MYSANJOSEREFNO\n",
      "LASTUPDATETHIRTYDAYS\n",
      "LASTUPDATE\n",
      "NOTES\n",
      "ENTERPRISEID\n",
      "GlobalID\n"
     ]
    }
   ],
   "source": [
    "for i in df.columns:\n",
    "    print(i)"
   ]
  },
  {
   "cell_type": "code",
   "execution_count": 37,
   "id": "e2bc0fbb-f535-493b-b27c-1d5d85d9d2cb",
   "metadata": {
    "tags": []
   },
   "outputs": [
    {
     "name": "stdout",
     "output_type": "stream",
     "text": [
      "INSERT INTO illegal_dumping (DATETIMERECEIVEDUTC, DATETIMECOMPLETEDUTC, WORKORDERREFNO, OBJECTID, FACILITYID, INTID, COUNCILDISTRICT, SERVICERECORDID, SERVICECATEGORY, DATETIMERECEIVED, STATUS, DATETIMECOMPLETED, DETAILSUMMARY, LATITUDE, LONGITUDE, IMAGENAME, HYPERLINK, MYSANJOSEREFNO, LASTUPDATETHIRTYDAYS, LASTUPDATE, NOTES, ENTERPRISEID, GlobalID) VALUES (to_timestamp('1590721500'), to_timestamp('1590726000'), 'WO-0000341544', '1', '83900', '83900', '8', nan, 'Debris & Illegal Dumping', to_timestamp('1590696300'), 'Closed', to_timestamp('1590700800'), 'nan', '37.328093', '-121.818059', 'nan', 'nan', 'nan', to_timestamp('1598363089'), to_timestamp('1600986109'), 'Homeless debris', 'IWM-ILDM-0000083900', '{87E47F44-FE16-4833-BC9C-B4E55BD89187}');\n",
      "INSERT INTO illegal_dumping (DATETIMERECEIVEDUTC, DATETIMECOMPLETEDUTC, WORKORDERREFNO, OBJECTID, FACILITYID, INTID, COUNCILDISTRICT, SERVICERECORDID, SERVICECATEGORY, DATETIMERECEIVED, STATUS, DATETIMECOMPLETED, DETAILSUMMARY, LATITUDE, LONGITUDE, IMAGENAME, HYPERLINK, MYSANJOSEREFNO, LASTUPDATETHIRTYDAYS, LASTUPDATE, NOTES, ENTERPRISEID, GlobalID) VALUES (to_timestamp('1578073213'), to_timestamp('1578595560'), 'WO-0000297255', '2', '71678', '71678', '5', 456126.0, 'Debris & Illegal Dumping', to_timestamp('1578044413'), 'Closed', to_timestamp('1578566760'), '1 Garbage , 1 General Debris', '37.36267206', '-121.83089235', 'nan', 'nan', '200103-000115', to_timestamp('1598363046'), to_timestamp('1600986109'), 'Garbage', 'IWM-ILDM-0000071678', '{1065F486-C19E-4B42-90AC-4611879FE08E}');\n",
      "INSERT INTO illegal_dumping (DATETIMERECEIVEDUTC, DATETIMECOMPLETEDUTC, WORKORDERREFNO, OBJECTID, FACILITYID, INTID, COUNCILDISTRICT, SERVICERECORDID, SERVICECATEGORY, DATETIMERECEIVED, STATUS, DATETIMECOMPLETED, DETAILSUMMARY, LATITUDE, LONGITUDE, IMAGENAME, HYPERLINK, MYSANJOSEREFNO, LASTUPDATETHIRTYDAYS, LASTUPDATE, NOTES, ENTERPRISEID, GlobalID) VALUES (to_timestamp('1627243159'), to_timestamp('1627498800'), 'WO-0000445585', '3', '115783', '115783', '4', 780969.0, 'Debris & Illegal Dumping', to_timestamp('1627217959'), 'Closed', to_timestamp('1627473600'), 'nan', '37.37782634', '-121.86682096', 'nan', 'nan', '210725-000137', to_timestamp('1624917719'), to_timestamp('1627534938'), 'The location of constant Illegal Dumping is at near the Intersection of Ensign Way and Branbury Way , near the lefthand sidewalk of 2008 Ensign Way. The person who supposedly dumped it has left a empty package with the tracking number still on it.', 'IWM-ILDM-0000115783', '{82AC2832-EA43-41AD-AB1F-FFB4142E9247}');\n",
      "INSERT INTO illegal_dumping (DATETIMERECEIVEDUTC, DATETIMECOMPLETEDUTC, WORKORDERREFNO, OBJECTID, FACILITYID, INTID, COUNCILDISTRICT, SERVICERECORDID, SERVICECATEGORY, DATETIMERECEIVED, STATUS, DATETIMECOMPLETED, DETAILSUMMARY, LATITUDE, LONGITUDE, IMAGENAME, HYPERLINK, MYSANJOSEREFNO, LASTUPDATETHIRTYDAYS, LASTUPDATE, NOTES, ENTERPRISEID, GlobalID) VALUES (to_timestamp('1552915723'), to_timestamp('0'), 'WO-0000205471', '4', '51267', '51267', '3', 299977.0, 'Debris & Illegal Dumping', to_timestamp('1552890523'), 'Closed', to_timestamp('0'), 'nan', '37.3604203', '-121.9040196', 'nan', 'nan', '190318-000024', to_timestamp('1598363378'), to_timestamp('1600986109'), 'this will be the second such report in under 6 months for the same address.  Prev ENFORCEMENT measures obviously failed.   Strong ENFORCEMENT measures are needed to prevent this from happening again. This is a continued blight on the neighborhood from ign', 'IWM-ILDM-0000051267', '{D27C6745-55BC-4C14-B3D6-D3AC6C33006C}');\n",
      "INSERT INTO illegal_dumping (DATETIMERECEIVEDUTC, DATETIMECOMPLETEDUTC, WORKORDERREFNO, OBJECTID, FACILITYID, INTID, COUNCILDISTRICT, SERVICERECORDID, SERVICECATEGORY, DATETIMERECEIVED, STATUS, DATETIMECOMPLETED, DETAILSUMMARY, LATITUDE, LONGITUDE, IMAGENAME, HYPERLINK, MYSANJOSEREFNO, LASTUPDATETHIRTYDAYS, LASTUPDATE, NOTES, ENTERPRISEID, GlobalID) VALUES (to_timestamp('1462316400'), to_timestamp('1462328280'), 'WO-0000011247', '5', '4285', '4285', '5', nan, 'Debris & Illegal Dumping', to_timestamp('1462291200'), 'Closed', to_timestamp('1462303080'), 'nan', '37.356961', '-121.853061', 'nan', 'nan', 'nan', to_timestamp('1598363071'), to_timestamp('1600986109'), 'on sidewalk mattress', 'IWM-ILDM-0000004285', '{A8FF94CC-D920-4851-92BA-1C290F05B037}');\n"
     ]
    }
   ],
   "source": [
    "\n",
    "df = pd.read_csv('../data/illegal_dumping.csv')\n",
    "\n",
    "# Specify the table name\n",
    "table_name = 'illegal_dumping'\n",
    "\n",
    "# Initialize an empty list to store SQL statements\n",
    "sql_statements = []\n",
    "\n",
    "# Iterate through the DataFrame rows\n",
    "for index, row in df.iterrows():\n",
    "    # Construct the SQL insert statement for each row\n",
    "    sql = f\"INSERT INTO {table_name} (DATETIMERECEIVEDUTC, DATETIMECOMPLETEDUTC, WORKORDERREFNO, OBJECTID, FACILITYID, INTID, COUNCILDISTRICT, SERVICERECORDID, SERVICECATEGORY, DATETIMERECEIVED, STATUS, DATETIMECOMPLETED, DETAILSUMMARY, LATITUDE, LONGITUDE, IMAGENAME, HYPERLINK, MYSANJOSEREFNO, LASTUPDATETHIRTYDAYS, LASTUPDATE, NOTES, ENTERPRISEID, GlobalID) VALUES \"\n",
    "    sql += f\"(to_timestamp('{row['DATETIMERECEIVEDUTC']}'), to_timestamp('{row['DATETIMECOMPLETEDUTC']}'), '{row['WORKORDERREFNO']}', '{row['OBJECTID']}', '{row['FACILITYID']}', '{row['INTID']}', '{row['COUNCILDISTRICT']}', {row['SERVICERECORDID']}, '{row['SERVICECATEGORY']}', to_timestamp('{row['DATETIMERECEIVED']}'), '{row['STATUS']}', to_timestamp('{row['DATETIMECOMPLETED']}'), '{row['DETAILSUMMARY']}', '{row['LATITUDE']}', '{row['LONGITUDE']}', '{row['IMAGENAME']}', '{row['HYPERLINK']}', '{row['MYSANJOSEREFNO']}', to_timestamp('{row['LASTUPDATETHIRTYDAYS']}'), to_timestamp('{row['LASTUPDATE']}'), '{row['NOTES']}', '{row['ENTERPRISEID']}', '{row['GlobalID']}');\"\n",
    "    \n",
    "    # Append the SQL statement to the list\n",
    "    sql_statements.append(sql)\n",
    "\n",
    "# Print the SQL statements\n",
    "for statement in sql_statements[:5]:\n",
    "    print(statement)"
   ]
  },
  {
   "cell_type": "code",
   "execution_count": 36,
   "id": "c5a8d24d-4599-41fe-8614-c654361d774e",
   "metadata": {
    "tags": []
   },
   "outputs": [
    {
     "data": {
      "text/plain": [
       "list"
      ]
     },
     "execution_count": 36,
     "metadata": {},
     "output_type": "execute_result"
    }
   ],
   "source": [
    "type(sql_statements)"
   ]
  },
  {
   "cell_type": "code",
   "execution_count": 106,
   "id": "c3c484a4-e986-4c97-a1d1-7b69da5ac372",
   "metadata": {
    "tags": []
   },
   "outputs": [
    {
     "name": "stdout",
     "output_type": "stream",
     "text": [
      "SQL statements have been written to ../src/illegal_dumping_data.sql\n"
     ]
    }
   ],
   "source": [
    "def generate_insert_sql(df, table_name, output_file):\n",
    "    df.replace(np.nan, 0, inplace=True) #temporary fix to get pipeline to work; will need to fix later\n",
    "    # Open the SQL file we will use to populate the datebase\n",
    "    with open(output_file, 'w') as sql_file:\n",
    "        # Iterate through the DataFrame rows\n",
    "        for index, row in df.iterrows():\n",
    "            #get rid of quotes so the program doesnt break\n",
    "            row = row.apply(lambda x: str(x).replace(\"'\", \"''\").replace('\"', '\"\"'))\n",
    "            #drops nan strings\n",
    "\n",
    "            # Construct the SQL insert statement for each row\n",
    "            sql = f\"INSERT INTO {table_name} (DATETIMERECEIVEDUTC, DATETIMECOMPLETEDUTC, WORKORDERREFNO, OBJECTID, FACILITYID, INTID, COUNCILDISTRICT, SERVICERECORDID, SERVICECATEGORY, DATETIMERECEIVED, STATUS, DATETIMECOMPLETED, DETAILSUMMARY, LATITUDE, LONGITUDE, IMAGENAME, HYPERLINK, MYSANJOSEREFNO, LASTUPDATETHIRTYDAYS, LASTUPDATE, NOTES, ENTERPRISEID, GlobalID) VALUES \"\n",
    "            sql += f\"(to_timestamp('{row['DATETIMERECEIVEDUTC']}'), to_timestamp('{row['DATETIMECOMPLETEDUTC']}'), '{row['WORKORDERREFNO']}', '{row['OBJECTID']}', '{row['FACILITYID']}', '{row['INTID']}', '{row['COUNCILDISTRICT']}', {row['SERVICERECORDID']}, '{row['SERVICECATEGORY']}', to_timestamp('{row['DATETIMERECEIVED']}'), '{row['STATUS']}', to_timestamp('{row['DATETIMECOMPLETED']}'), '{row['DETAILSUMMARY']}', '{row['LATITUDE']}', '{row['LONGITUDE']}', '{row['IMAGENAME']}', '{row['HYPERLINK']}', '{row['MYSANJOSEREFNO']}', to_timestamp('{row['LASTUPDATETHIRTYDAYS']}'), to_timestamp('{row['LASTUPDATE']}'), '{row['NOTES']}', '{row['ENTERPRISEID']}', '{row['GlobalID']}');\\n\"\n",
    "            \n",
    "            # Write the SQL statement to the file\n",
    "            sql_file.write(sql)\n",
    "\n",
    "    print(f\"SQL statements have been written to {output_file}\")\n",
    "\n",
    "# specifiy the file we will be using\n",
    "df = pd.read_csv('../data/illegal_dumping.csv')\n",
    "\n",
    "# Specify the table name were inserting into\n",
    "table_name = 'illegal_dumping'\n",
    "\n",
    "# Specify the output SQL file name\n",
    "output_sql_file = '../src/illegal_dumping_data.sql'\n",
    "\n",
    "# Call the function\n",
    "generate_insert_sql(df, table_name, output_sql_file)"
   ]
  },
  {
   "cell_type": "code",
   "execution_count": null,
   "id": "ad24f5a6-6759-4d72-aac8-db297936cc42",
   "metadata": {},
   "outputs": [],
   "source": []
  }
 ],
 "metadata": {
  "kernelspec": {
   "display_name": "Python [conda env:root] *",
   "language": "python",
   "name": "conda-root-py"
  },
  "language_info": {
   "codemirror_mode": {
    "name": "ipython",
    "version": 3
   },
   "file_extension": ".py",
   "mimetype": "text/x-python",
   "name": "python",
   "nbconvert_exporter": "python",
   "pygments_lexer": "ipython3",
   "version": "3.9.18"
  }
 },
 "nbformat": 4,
 "nbformat_minor": 5
}
